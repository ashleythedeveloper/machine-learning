{
 "cells": [
  {
   "cell_type": "code",
   "execution_count": 20,
   "metadata": {},
   "outputs": [],
   "source": [
    "import torch\n",
    "import torch.nn as nn\n",
    "import torch.optim as optim\n",
    "from torch.utils.data import DataLoader\n",
    "from torch.utils.tensorboard import SummaryWriter\n",
    "import numpy as np\n",
    "from os.path import join\n",
    "import struct\n",
    "import matplotlib.pyplot as plt\n",
    "import datetime"
   ]
  },
  {
   "cell_type": "code",
   "execution_count": 6,
   "metadata": {},
   "outputs": [
    {
     "name": "stdout",
     "output_type": "stream",
     "text": [
      "Using device: mps\n"
     ]
    }
   ],
   "source": [
    "device = torch.device(\"mps\" if torch.backends.mps.is_available() else \"cpu\")\n",
    "print(f\"Using device: {device}\")"
   ]
  },
  {
   "cell_type": "code",
   "execution_count": 7,
   "metadata": {},
   "outputs": [],
   "source": [
    "def read_idx(filename):\n",
    "    with open(filename, 'rb') as f:\n",
    "        zero, data_type, dims = struct.unpack('>HBB', f.read(4))\n",
    "        shape = tuple(struct.unpack('>I', f.read(4))[0] for d in range(dims))\n",
    "        return np.frombuffer(f.read(), dtype=np.uint8).reshape(shape)\n",
    "\n",
    "class EMNISTDataset(torch.utils.data.Dataset):\n",
    "    def __init__(self, images_filepath, labels_filepath):\n",
    "        self.images = read_idx(images_filepath)\n",
    "        self.labels = read_idx(labels_filepath)\n",
    "\n",
    "    def __len__(self):\n",
    "        return len(self.labels)\n",
    "\n",
    "    def __getitem__(self, idx):\n",
    "        image = self.images[idx].astype(np.float32).reshape(28, 28) / 255.0\n",
    "        image = torch.from_numpy(image).unsqueeze(0)\n",
    "        label = int(self.labels[idx])\n",
    "        return image, label"
   ]
  },
  {
   "cell_type": "code",
   "execution_count": 8,
   "metadata": {},
   "outputs": [],
   "source": [
    "class Net(nn.Module):\n",
    "    def __init__(self):\n",
    "        super(Net, self).__init__()\n",
    "        self.conv1 = nn.Conv2d(1, 32, kernel_size=3, padding=1)\n",
    "        self.conv2 = nn.Conv2d(32, 64, kernel_size=3, padding=1)\n",
    "        self.conv3 = nn.Conv2d(64, 128, kernel_size=3, padding=1)\n",
    "        self.pool = nn.MaxPool2d(2, 2)\n",
    "        self.fc1 = nn.Linear(128 * 3 * 3, 512)\n",
    "        self.fc2 = nn.Linear(512, 256)\n",
    "        self.fc3 = nn.Linear(256, 47)\n",
    "        self.dropout = nn.Dropout(0.5)\n",
    "\n",
    "    def forward(self, x):\n",
    "        x = self.pool(torch.relu(self.conv1(x)))\n",
    "        x = self.pool(torch.relu(self.conv2(x)))\n",
    "        x = self.pool(torch.relu(self.conv3(x)))\n",
    "        x = x.view(-1, 128 * 3 * 3)\n",
    "        x = torch.relu(self.fc1(x))\n",
    "        x = self.dropout(x)\n",
    "        x = torch.relu(self.fc2(x))\n",
    "        x = self.dropout(x)\n",
    "        x = self.fc3(x)\n",
    "        return x"
   ]
  },
  {
   "cell_type": "code",
   "execution_count": 9,
   "metadata": {},
   "outputs": [],
   "source": [
    "input_path = 'dataset'\n",
    "training_images_filepath = join(input_path, 'emnist-balanced-train-images-idx3-ubyte')\n",
    "training_labels_filepath = join(input_path, 'emnist-balanced-train-labels-idx1-ubyte')\n",
    "test_images_filepath = join(input_path, 'emnist-balanced-test-images-idx3-ubyte')\n",
    "test_labels_filepath = join(input_path, 'emnist-balanced-test-labels-idx1-ubyte')\n",
    "\n",
    "train_dataset = EMNISTDataset(training_images_filepath, training_labels_filepath)\n",
    "test_dataset = EMNISTDataset(test_images_filepath, test_labels_filepath)\n",
    "train_loader = DataLoader(train_dataset, batch_size=64, shuffle=True)\n",
    "test_loader = DataLoader(test_dataset, batch_size=1000, shuffle=False)"
   ]
  },
  {
   "cell_type": "code",
   "execution_count": 10,
   "metadata": {},
   "outputs": [],
   "source": [
    "model = Net().to(device)\n",
    "criterion = nn.CrossEntropyLoss()\n",
    "optimizer = optim.Adam(model.parameters(), lr=0.001)"
   ]
  },
  {
   "cell_type": "code",
   "execution_count": 11,
   "metadata": {},
   "outputs": [],
   "source": [
    "writer = SummaryWriter('runs/emnist_experiment')"
   ]
  },
  {
   "cell_type": "code",
   "execution_count": 12,
   "metadata": {},
   "outputs": [],
   "source": [
    "def train(epochs):\n",
    "    for epoch in range(epochs):\n",
    "        model.train()\n",
    "        for batch_idx, (data, target) in enumerate(train_loader):\n",
    "            data, target = data.to(device), target.to(device)\n",
    "            optimizer.zero_grad()\n",
    "            output = model(data)\n",
    "            loss = criterion(output, target)\n",
    "            loss.backward()\n",
    "            optimizer.step()\n",
    "\n",
    "            if batch_idx % 100 == 0:\n",
    "                print(f'Train Epoch: {epoch} [{batch_idx * len(data)}/{len(train_loader.dataset)} '\n",
    "                      f'({100. * batch_idx / len(train_loader):.0f}%)]\\tLoss: {loss.item():.6f}')\n",
    "                writer.add_scalar('Loss/train', loss.item(), epoch * len(train_loader) + batch_idx)\n",
    "\n",
    "        test(epoch)"
   ]
  },
  {
   "cell_type": "code",
   "execution_count": 13,
   "metadata": {},
   "outputs": [],
   "source": [
    "def test(epoch):\n",
    "    model.eval()\n",
    "    test_loss = 0\n",
    "    correct = 0\n",
    "    with torch.no_grad():\n",
    "        for data, target in test_loader:\n",
    "            data, target = data.to(device), target.to(device)\n",
    "            output = model(data)\n",
    "            test_loss += criterion(output, target).item()\n",
    "            pred = output.argmax(dim=1, keepdim=True)\n",
    "            correct += pred.eq(target.view_as(pred)).sum().item()\n",
    "\n",
    "    test_loss /= len(test_loader.dataset)\n",
    "    accuracy = 100. * correct / len(test_loader.dataset)\n",
    "\n",
    "    print(f'\\nTest set: Average loss: {test_loss:.4f}, Accuracy: {correct}/{len(test_loader.dataset)} ({accuracy:.2f}%)\\n')\n",
    "    writer.add_scalar('Loss/test', test_loss, epoch)\n",
    "    writer.add_scalar('Accuracy/test', accuracy, epoch)"
   ]
  },
  {
   "cell_type": "code",
   "execution_count": 14,
   "metadata": {},
   "outputs": [
    {
     "name": "stdout",
     "output_type": "stream",
     "text": [
      "Train Epoch: 0 [0/112800 (0%)]\tLoss: 3.848723\n",
      "Train Epoch: 0 [6400/112800 (6%)]\tLoss: 2.984640\n",
      "Train Epoch: 0 [12800/112800 (11%)]\tLoss: 1.524791\n",
      "Train Epoch: 0 [19200/112800 (17%)]\tLoss: 1.210220\n",
      "Train Epoch: 0 [25600/112800 (23%)]\tLoss: 0.925403\n",
      "Train Epoch: 0 [32000/112800 (28%)]\tLoss: 0.741917\n",
      "Train Epoch: 0 [38400/112800 (34%)]\tLoss: 0.787487\n",
      "Train Epoch: 0 [44800/112800 (40%)]\tLoss: 0.977385\n",
      "Train Epoch: 0 [51200/112800 (45%)]\tLoss: 0.650074\n",
      "Train Epoch: 0 [57600/112800 (51%)]\tLoss: 0.841392\n",
      "Train Epoch: 0 [64000/112800 (57%)]\tLoss: 0.676532\n",
      "Train Epoch: 0 [70400/112800 (62%)]\tLoss: 0.531027\n",
      "Train Epoch: 0 [76800/112800 (68%)]\tLoss: 0.558533\n",
      "Train Epoch: 0 [83200/112800 (74%)]\tLoss: 0.821048\n",
      "Train Epoch: 0 [89600/112800 (79%)]\tLoss: 0.744429\n",
      "Train Epoch: 0 [96000/112800 (85%)]\tLoss: 0.538622\n",
      "Train Epoch: 0 [102400/112800 (91%)]\tLoss: 0.725021\n",
      "Train Epoch: 0 [108800/112800 (96%)]\tLoss: 0.662555\n",
      "\n",
      "Test set: Average loss: 0.0005, Accuracy: 15891/18800 (84.53%)\n",
      "\n",
      "Train Epoch: 1 [0/112800 (0%)]\tLoss: 0.704644\n",
      "Train Epoch: 1 [6400/112800 (6%)]\tLoss: 0.725310\n",
      "Train Epoch: 1 [12800/112800 (11%)]\tLoss: 0.445529\n",
      "Train Epoch: 1 [19200/112800 (17%)]\tLoss: 0.642231\n",
      "Train Epoch: 1 [25600/112800 (23%)]\tLoss: 0.683432\n",
      "Train Epoch: 1 [32000/112800 (28%)]\tLoss: 0.423106\n",
      "Train Epoch: 1 [38400/112800 (34%)]\tLoss: 0.586138\n",
      "Train Epoch: 1 [44800/112800 (40%)]\tLoss: 0.402158\n",
      "Train Epoch: 1 [51200/112800 (45%)]\tLoss: 0.331486\n",
      "Train Epoch: 1 [57600/112800 (51%)]\tLoss: 0.378880\n",
      "Train Epoch: 1 [64000/112800 (57%)]\tLoss: 0.428781\n",
      "Train Epoch: 1 [70400/112800 (62%)]\tLoss: 0.612805\n",
      "Train Epoch: 1 [76800/112800 (68%)]\tLoss: 0.345488\n",
      "Train Epoch: 1 [83200/112800 (74%)]\tLoss: 0.699126\n",
      "Train Epoch: 1 [89600/112800 (79%)]\tLoss: 0.851030\n",
      "Train Epoch: 1 [96000/112800 (85%)]\tLoss: 0.535033\n",
      "Train Epoch: 1 [102400/112800 (91%)]\tLoss: 0.454033\n",
      "Train Epoch: 1 [108800/112800 (96%)]\tLoss: 0.539840\n",
      "\n",
      "Test set: Average loss: 0.0004, Accuracy: 16132/18800 (85.81%)\n",
      "\n",
      "Train Epoch: 2 [0/112800 (0%)]\tLoss: 0.636989\n",
      "Train Epoch: 2 [6400/112800 (6%)]\tLoss: 0.252145\n",
      "Train Epoch: 2 [12800/112800 (11%)]\tLoss: 0.278881\n",
      "Train Epoch: 2 [19200/112800 (17%)]\tLoss: 0.316477\n",
      "Train Epoch: 2 [25600/112800 (23%)]\tLoss: 0.483420\n",
      "Train Epoch: 2 [32000/112800 (28%)]\tLoss: 0.527679\n",
      "Train Epoch: 2 [38400/112800 (34%)]\tLoss: 0.430968\n",
      "Train Epoch: 2 [44800/112800 (40%)]\tLoss: 0.823534\n",
      "Train Epoch: 2 [51200/112800 (45%)]\tLoss: 0.646415\n",
      "Train Epoch: 2 [57600/112800 (51%)]\tLoss: 0.393092\n",
      "Train Epoch: 2 [64000/112800 (57%)]\tLoss: 0.516334\n",
      "Train Epoch: 2 [70400/112800 (62%)]\tLoss: 0.498972\n",
      "Train Epoch: 2 [76800/112800 (68%)]\tLoss: 0.501836\n",
      "Train Epoch: 2 [83200/112800 (74%)]\tLoss: 0.465249\n",
      "Train Epoch: 2 [89600/112800 (79%)]\tLoss: 0.731165\n",
      "Train Epoch: 2 [96000/112800 (85%)]\tLoss: 0.426502\n",
      "Train Epoch: 2 [102400/112800 (91%)]\tLoss: 0.463547\n",
      "Train Epoch: 2 [108800/112800 (96%)]\tLoss: 0.272608\n",
      "\n",
      "Test set: Average loss: 0.0004, Accuracy: 16334/18800 (86.88%)\n",
      "\n",
      "Train Epoch: 3 [0/112800 (0%)]\tLoss: 0.393177\n",
      "Train Epoch: 3 [6400/112800 (6%)]\tLoss: 0.533794\n",
      "Train Epoch: 3 [12800/112800 (11%)]\tLoss: 0.318863\n",
      "Train Epoch: 3 [19200/112800 (17%)]\tLoss: 0.418839\n",
      "Train Epoch: 3 [25600/112800 (23%)]\tLoss: 0.270537\n",
      "Train Epoch: 3 [32000/112800 (28%)]\tLoss: 0.352879\n",
      "Train Epoch: 3 [38400/112800 (34%)]\tLoss: 0.352802\n",
      "Train Epoch: 3 [44800/112800 (40%)]\tLoss: 0.478257\n",
      "Train Epoch: 3 [51200/112800 (45%)]\tLoss: 0.532736\n",
      "Train Epoch: 3 [57600/112800 (51%)]\tLoss: 0.336164\n",
      "Train Epoch: 3 [64000/112800 (57%)]\tLoss: 0.413852\n",
      "Train Epoch: 3 [70400/112800 (62%)]\tLoss: 0.565098\n",
      "Train Epoch: 3 [76800/112800 (68%)]\tLoss: 0.349060\n",
      "Train Epoch: 3 [83200/112800 (74%)]\tLoss: 0.588990\n",
      "Train Epoch: 3 [89600/112800 (79%)]\tLoss: 0.414528\n",
      "Train Epoch: 3 [96000/112800 (85%)]\tLoss: 0.463565\n",
      "Train Epoch: 3 [102400/112800 (91%)]\tLoss: 0.381062\n",
      "Train Epoch: 3 [108800/112800 (96%)]\tLoss: 0.402280\n",
      "\n",
      "Test set: Average loss: 0.0004, Accuracy: 16440/18800 (87.45%)\n",
      "\n",
      "Train Epoch: 4 [0/112800 (0%)]\tLoss: 0.311948\n",
      "Train Epoch: 4 [6400/112800 (6%)]\tLoss: 0.147456\n",
      "Train Epoch: 4 [12800/112800 (11%)]\tLoss: 0.355134\n",
      "Train Epoch: 4 [19200/112800 (17%)]\tLoss: 0.532358\n",
      "Train Epoch: 4 [25600/112800 (23%)]\tLoss: 0.610672\n",
      "Train Epoch: 4 [32000/112800 (28%)]\tLoss: 0.424813\n",
      "Train Epoch: 4 [38400/112800 (34%)]\tLoss: 0.317910\n",
      "Train Epoch: 4 [44800/112800 (40%)]\tLoss: 0.536369\n",
      "Train Epoch: 4 [51200/112800 (45%)]\tLoss: 0.471369\n",
      "Train Epoch: 4 [57600/112800 (51%)]\tLoss: 0.443875\n",
      "Train Epoch: 4 [64000/112800 (57%)]\tLoss: 0.597825\n",
      "Train Epoch: 4 [70400/112800 (62%)]\tLoss: 0.490152\n",
      "Train Epoch: 4 [76800/112800 (68%)]\tLoss: 0.477563\n",
      "Train Epoch: 4 [83200/112800 (74%)]\tLoss: 0.485438\n",
      "Train Epoch: 4 [89600/112800 (79%)]\tLoss: 0.444766\n",
      "Train Epoch: 4 [96000/112800 (85%)]\tLoss: 0.463922\n",
      "Train Epoch: 4 [102400/112800 (91%)]\tLoss: 0.919283\n",
      "Train Epoch: 4 [108800/112800 (96%)]\tLoss: 0.277152\n",
      "\n",
      "Test set: Average loss: 0.0004, Accuracy: 16534/18800 (87.95%)\n",
      "\n"
     ]
    }
   ],
   "source": [
    "train(epochs=5)\n",
    "\n",
    "writer.close()"
   ]
  },
  {
   "cell_type": "code",
   "execution_count": 15,
   "metadata": {},
   "outputs": [],
   "source": [
    "def visualize_predictions(model, dataset, num_images=5):\n",
    "    class_mapping = '0123456789ABCDEFGHIJKLMNOPQRSTUVWXYZabdefghnqrt'\n",
    "\n",
    "    fig, axes = plt.subplots(1, num_images, figsize=(15, 3))\n",
    "    for i in range(num_images):\n",
    "        image, label = dataset[np.random.randint(len(dataset))]\n",
    "        with torch.no_grad():\n",
    "            output = model(image.unsqueeze(0).to(device))\n",
    "            pred = output.argmax(dim=1).item()\n",
    "        \n",
    "        axes[i].imshow(image.squeeze(), cmap='gray')\n",
    "        axes[i].set_title(f'Pred: {class_mapping[pred]}, True: {class_mapping[label]}')\n",
    "        axes[i].axis('off')\n",
    "    \n",
    "    plt.tight_layout()\n",
    "    plt.show()"
   ]
  },
  {
   "cell_type": "code",
   "execution_count": 16,
   "metadata": {},
   "outputs": [
    {
     "data": {
      "image/png": "[encoded data removed]",
      "text/plain": [
       "<Figure size 1500x300 with 5 Axes>"
      ]
     },
     "metadata": {},
     "output_type": "display_data"
    }
   ],
   "source": [
    "visualize_predictions(model, test_dataset)"
   ]
  },
  {
   "cell_type": "code",
   "execution_count": 23,
   "metadata": {},
   "outputs": [
    {
     "name": "stdout",
     "output_type": "stream",
     "text": [
      "Model saved to 'models/emnist_model_2024-07-02_19-44-52.pth'\n"
     ]
    }
   ],
   "source": [
    "models_dir = 'models'\n",
    "model_name = f'emnist_model_{datetime.datetime.now().strftime(\"%Y-%m-%d_%H-%M-%S\")}.pth'\n",
    "\n",
    "\n",
    "torch.save(model.state_dict(), join(models_dir, model_name))\n",
    "print(f\"Model saved to '{join(models_dir, model_name)}'\")"
   ]
  }
 ],
 "metadata": {
  "kernelspec": {
   "display_name": "pytorch-m1",
   "language": "python",
   "name": "python3"
  },
  "language_info": {
   "codemirror_mode": {
    "name": "ipython",
    "version": 3
   },
   "file_extension": ".py",
   "mimetype": "text/x-python",
   "name": "python",
   "nbconvert_exporter": "python",
   "pygments_lexer": "ipython3",
   "version": "3.8.-1"
  }
 },
 "nbformat": 4,
 "nbformat_minor": 2
}
